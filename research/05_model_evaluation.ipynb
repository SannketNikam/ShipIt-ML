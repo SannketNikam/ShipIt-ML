{
 "cells": [
  {
   "cell_type": "code",
   "execution_count": 8,
   "metadata": {},
   "outputs": [],
   "source": [
    "import os"
   ]
  },
  {
   "cell_type": "code",
   "execution_count": 3,
   "metadata": {},
   "outputs": [
    {
     "data": {
      "text/plain": [
       "'d:\\\\Sanket Nikam\\\\Programs\\\\Jupyter Notebook\\\\Data Science\\\\Projects\\\\ShipIt-ML\\\\research'"
      ]
     },
     "execution_count": 3,
     "metadata": {},
     "output_type": "execute_result"
    }
   ],
   "source": [
    "%pwd"
   ]
  },
  {
   "cell_type": "code",
   "execution_count": 4,
   "metadata": {},
   "outputs": [],
   "source": [
    "os.chdir(\"../\")"
   ]
  },
  {
   "cell_type": "code",
   "execution_count": 5,
   "metadata": {},
   "outputs": [
    {
     "data": {
      "text/plain": [
       "'d:\\\\Sanket Nikam\\\\Programs\\\\Jupyter Notebook\\\\Data Science\\\\Projects\\\\ShipIt-ML'"
      ]
     },
     "execution_count": 5,
     "metadata": {},
     "output_type": "execute_result"
    }
   ],
   "source": [
    "%pwd"
   ]
  },
  {
   "cell_type": "code",
   "execution_count": 2,
   "metadata": {},
   "outputs": [
    {
     "name": "stdout",
     "output_type": "stream",
     "text": [
      "Current MLflow Tracking URI: https://dagshub.com/SannketNikam/ShipIt-ML.mlflow\n"
     ]
    }
   ],
   "source": [
    "import mlflow\n",
    "\n",
    "print(\"Current MLflow Tracking URI:\", mlflow.get_tracking_uri())"
   ]
  },
  {
   "cell_type": "code",
   "execution_count": 3,
   "metadata": {},
   "outputs": [
    {
     "name": "stdout",
     "output_type": "stream",
     "text": [
      "New Tracking URI: https://dagshub.com/SannketNikam/ShipIt-ML.mlflow\n"
     ]
    }
   ],
   "source": [
    "dagshub_tracking_uri = \"https://dagshub.com/SannketNikam/ShipIt-ML.mlflow\"\n",
    "mlflow.set_tracking_uri(dagshub_tracking_uri)\n",
    "\n",
    "print(\"New Tracking URI:\", mlflow.get_tracking_uri())  # Confirm it's set correctly"
   ]
  },
  {
   "cell_type": "code",
   "execution_count": null,
   "metadata": {},
   "outputs": [
    {
     "name": "stderr",
     "output_type": "stream",
     "text": [
      "2025/03/31 22:06:27 ERROR mlflow.cli: Error initializing backend store\n",
      "2025/03/31 22:06:27 ERROR mlflow.cli:  Model registry functionality is unavailable; got unsupported URI 'https://dagshub.com/SannketNikam/ShipIt-ML.mlflow' for model registry data storage. Supported URI schemes are: ['', 'file', 'postgresql', 'mysql', 'sqlite', 'mssql']. See https://www.mlflow.org/docs/latest/tracking.html#storage for how to run an MLflow server against one of the supported backend storage locations.\n",
      "Traceback (most recent call last):\n",
      "  File \"C:\\Users\\Sanket\\anaconda3\\envs\\mlops\\lib\\site-packages\\mlflow\\tracking\\registry.py\", line 77, in get_store_builder\n",
      "    store_builder = self._registry[scheme]\n",
      "KeyError: 'https'\n",
      "\n",
      "During handling of the above exception, another exception occurred:\n",
      "\n",
      "Traceback (most recent call last):\n",
      "  File \"C:\\Users\\Sanket\\anaconda3\\envs\\mlops\\lib\\site-packages\\mlflow\\cli.py\", line 392, in server\n",
      "    initialize_backend_stores(backend_store_uri, registry_store_uri, default_artifact_root)\n",
      "  File \"C:\\Users\\Sanket\\anaconda3\\envs\\mlops\\lib\\site-packages\\mlflow\\server\\handlers.py\", line 276, in initialize_backend_stores\n",
      "    _get_tracking_store(backend_store_uri, default_artifact_root)\n",
      "  File \"C:\\Users\\Sanket\\anaconda3\\envs\\mlops\\lib\\site-packages\\mlflow\\server\\handlers.py\", line 255, in _get_tracking_store\n",
      "    _tracking_store = _tracking_store_registry.get_store(store_uri, artifact_root)\n",
      "  File \"C:\\Users\\Sanket\\anaconda3\\envs\\mlops\\lib\\site-packages\\mlflow\\tracking\\_tracking_service\\registry.py\", line 39, in get_store\n",
      "    return self._get_store_with_resolved_uri(resolved_store_uri, artifact_uri)\n",
      "  File \"C:\\Users\\Sanket\\anaconda3\\envs\\mlops\\lib\\site-packages\\mlflow\\tracking\\_tracking_service\\registry.py\", line 48, in _get_store_with_resolved_uri\n",
      "    builder = self.get_store_builder(resolved_store_uri)\n",
      "  File \"C:\\Users\\Sanket\\anaconda3\\envs\\mlops\\lib\\site-packages\\mlflow\\tracking\\registry.py\", line 79, in get_store_builder\n",
      "    raise UnsupportedModelRegistryStoreURIException(\n",
      "mlflow.tracking.registry.UnsupportedModelRegistryStoreURIException:  Model registry functionality is unavailable; got unsupported URI 'https://dagshub.com/SannketNikam/ShipIt-ML.mlflow' for model registry data storage. Supported URI schemes are: ['', 'file', 'postgresql', 'mysql', 'sqlite', 'mssql']. See https://www.mlflow.org/docs/latest/tracking.html#storage for how to run an MLflow server against one of the supported backend storage locations.\n"
     ]
    }
   ],
   "source": [
    "!mlflow ui --backend-store-uri \"https://dagshub.com/SannketNikam/ShipIt-ML.mlflow\""
   ]
  },
  {
   "cell_type": "code",
   "execution_count": null,
   "metadata": {},
   "outputs": [],
   "source": [
    "os.environ[\"MLFLOW_TRACKING_URI\"]=\"https://dagshub.com/SannketNikam/ShipIt-ML.mlflow\"\n",
    "os.environ[\"MLFLOW_TRACKING_USERNAME\"]=\"SannketNikam\"\n",
    "os.environ[\"MLFLOW_TRACKING_PASSWORD\"]=\"0127ae428cdaeb2bd2444a8e5059355946d371c7\""
   ]
  },
  {
   "cell_type": "code",
   "execution_count": 6,
   "metadata": {},
   "outputs": [
    {
     "name": "stdout",
     "output_type": "stream",
     "text": [
      "Run logged! Check DagsHub UI for details.\n"
     ]
    }
   ],
   "source": [
    "import mlflow\n",
    "\n",
    "# Set remote tracking URI (DagsHub)\n",
    "mlflow.set_tracking_uri(\"https://dagshub.com/SannketNikam/ShipIt-ML.mlflow\")\n",
    "\n",
    "with mlflow.start_run():\n",
    "    mlflow.log_param(\"learning_rate\", 0.01)\n",
    "    mlflow.log_metric(\"accuracy\", 0.92)\n",
    "\n",
    "print(\"Run logged! Check DagsHub UI for details.\")\n"
   ]
  },
  {
   "cell_type": "code",
   "execution_count": 1,
   "metadata": {},
   "outputs": [
    {
     "data": {
      "text/html": [
       "<pre style=\"white-space:pre;overflow-x:auto;line-height:normal;font-family:Menlo,'DejaVu Sans Mono',consolas,'Courier New',monospace\">Accessing as SannketNikam\n",
       "</pre>\n"
      ],
      "text/plain": [
       "Accessing as SannketNikam\n"
      ]
     },
     "metadata": {},
     "output_type": "display_data"
    },
    {
     "data": {
      "text/html": [
       "<pre style=\"white-space:pre;overflow-x:auto;line-height:normal;font-family:Menlo,'DejaVu Sans Mono',consolas,'Courier New',monospace\">Initialized MLflow to track repo <span style=\"color: #008000; text-decoration-color: #008000\">\"SannketNikam/ShipIt-ML\"</span>\n",
       "</pre>\n"
      ],
      "text/plain": [
       "Initialized MLflow to track repo \u001b[32m\"SannketNikam/ShipIt-ML\"\u001b[0m\n"
      ]
     },
     "metadata": {},
     "output_type": "display_data"
    },
    {
     "data": {
      "text/html": [
       "<pre style=\"white-space:pre;overflow-x:auto;line-height:normal;font-family:Menlo,'DejaVu Sans Mono',consolas,'Courier New',monospace\">Repository SannketNikam/ShipIt-ML initialized!\n",
       "</pre>\n"
      ],
      "text/plain": [
       "Repository SannketNikam/ShipIt-ML initialized!\n"
      ]
     },
     "metadata": {},
     "output_type": "display_data"
    }
   ],
   "source": [
    "import dagshub\n",
    "dagshub.init(repo_owner='SannketNikam', repo_name='ShipIt-ML', mlflow=True)\n",
    "\n",
    "import mlflow\n",
    "with mlflow.start_run():\n",
    "  mlflow.log_param('parameter name', 'value')\n",
    "  mlflow.log_metric('metric name', 1)"
   ]
  },
  {
   "cell_type": "code",
   "execution_count": 7,
   "metadata": {},
   "outputs": [],
   "source": [
    "from dataclasses import dataclass\n",
    "from pathlib import Path\n",
    "\n",
    "@dataclass(frozen=True)\n",
    "class ModelEvaluationConfig:\n",
    "    root_dir: Path\n",
    "    test_data_path: Path\n",
    "    model_path: Path\n",
    "    all_params: dict\n",
    "    metric_file_name: Path\n",
    "    target_column: str\n",
    "    mlflow_uri: str"
   ]
  },
  {
   "cell_type": "code",
   "execution_count": 8,
   "metadata": {},
   "outputs": [],
   "source": [
    "from mlProject.constants import *\n",
    "from mlProject.utils.common import read_yaml, create_directories, save_json"
   ]
  },
  {
   "cell_type": "code",
   "execution_count": 9,
   "metadata": {},
   "outputs": [],
   "source": [
    "class ConfigurationManager:\n",
    "    def __init__(\n",
    "            self,\n",
    "            config_filepath = CONFIG_FILE_PATH,\n",
    "            params_filepath = PARAMS_FILE_PATH,\n",
    "            schema_filepath = SCHEMA_FILE_PATH):\n",
    "        \n",
    "        self.config = read_yaml(config_filepath)\n",
    "        self.params = read_yaml(params_filepath)\n",
    "        self.schema = read_yaml(schema_filepath)\n",
    "\n",
    "        create_directories([self.config.artifacts_root])\n",
    "\n",
    "    def get_model_evaluation_config(self) -> ModelEvaluationConfig:\n",
    "        config = self.config.model_evaluation\n",
    "        params = self.params.ElasticNet\n",
    "        schema = self.schema.TARGET_COLUMN\n",
    "\n",
    "        create_directories([config.root_dir])\n",
    "\n",
    "        model_evaluation_config = ModelEvaluationConfig(\n",
    "            root_dir = config.root_dir,\n",
    "            test_data_path = config.test_data_path,\n",
    "            model_path = config.model_path,\n",
    "            all_params = params,\n",
    "            metric_file_name = config.metric_file_name,\n",
    "            target_column = schema.name,\n",
    "            mlflow_uri = \"https://dagshub.com/SannketNikam/ShipIt-ML.mlflow\"\n",
    "        )\n",
    "\n",
    "        return model_evaluation_config"
   ]
  },
  {
   "cell_type": "code",
   "execution_count": 10,
   "metadata": {},
   "outputs": [],
   "source": [
    "import os\n",
    "import pandas as pd\n",
    "from sklearn.metrics import mean_squared_error, mean_absolute_error, r2_score\n",
    "from urllib.parse import urlparse\n",
    "import mlflow\n",
    "import mlflow.sklearn\n",
    "import numpy as np\n",
    "import joblib"
   ]
  },
  {
   "cell_type": "code",
   "execution_count": 11,
   "metadata": {},
   "outputs": [],
   "source": [
    "class ModelEvaluation:\n",
    "    def __init__(self, config: ModelEvaluationConfig):\n",
    "        self.config = config\n",
    "\n",
    "    def eval_metrics(self, actual, pred):\n",
    "        rmse = np.sqrt(mean_squared_error(actual, pred))\n",
    "        mae = mean_absolute_error(actual, pred)\n",
    "        r2 = r2_score(actual, pred)\n",
    "        return rmse, mae, r2\n",
    "    \n",
    "    def log_into_mlflow(self):\n",
    "        test_data = pd.read_csv(self.config.test_data_path)\n",
    "        model = joblib.load(self.config.model_path)\n",
    "\n",
    "        test_x = test_data.drop([self.config.target_column], axis = 1)\n",
    "        test_y = test_data[[self.config.target_column]]\n",
    "\n",
    "        mlflow.set_registry_uri(self.config.mlflow_uri)\n",
    "        tracking_url_type_store = urlparse(mlflow.get_tracking_uri()).scheme\n",
    "\n",
    "        with mlflow.start_run():\n",
    "            predicted_qualities = model.predict(test_x)\n",
    "            (rmse, mae, r2) = self.eval_metrics(test_y, predicted_qualities)\n",
    "\n",
    "            # Saving Metrics as local\n",
    "            scores = {\n",
    "                \"rmse\": rmse,\n",
    "                \"mae\": mae,\n",
    "                \"r2\": r2\n",
    "            }\n",
    "            save_json(path = Path(self.config.metric_file_name), data = scores)\n",
    "\n",
    "            mlflow.log_params(self.config.all_params)\n",
    "\n",
    "            mlflow.log_metric(\"rmse\", rmse)\n",
    "            mlflow.log_metric(\"r2\", r2)\n",
    "            mlflow.log_metric(\"mae\", mae)\n",
    "\n",
    "            # Model registry does not work with file store\n",
    "            if tracking_url_type_store != \"file\":\n",
    "\n",
    "                \"\"\"\n",
    "                Register the model\n",
    "                There are other ways to use the Model Registry, which depends on the use case\n",
    "                Please refer to the doc for more information:\n",
    "                https://mlflow.org/docs/latest/model-registry.html#api-workflow\n",
    "                \"\"\"\n",
    "                mlflow.sklearn.log_model(model, \"model\", registered_model_name=\"ElasticNetModel\")\n",
    "            else:\n",
    "                mlflow.sklearn.log_model(model, \"model\")"
   ]
  },
  {
   "cell_type": "code",
   "execution_count": 12,
   "metadata": {},
   "outputs": [
    {
     "name": "stdout",
     "output_type": "stream",
     "text": [
      "[2025-03-29 23:07:17,930: INFO: common: Yaml file: config\\config.yaml loaded successfully]\n",
      "[2025-03-29 23:07:17,931: INFO: common: Yaml file: params.yaml loaded successfully]\n",
      "[2025-03-29 23:07:17,940: INFO: common: Yaml file: schema.yaml loaded successfully]\n",
      "[2025-03-29 23:07:17,940: INFO: common: Created directory at: artifacts/]\n",
      "[2025-03-29 23:07:17,946: INFO: common: Created directory at: artifacts/model_evaluation]\n"
     ]
    },
    {
     "name": "stdout",
     "output_type": "stream",
     "text": [
      "[2025-03-29 23:07:18,494: INFO: common: JSON file saved at: artifacts\\model_evaluation\\metrics.json]\n"
     ]
    },
    {
     "name": "stderr",
     "output_type": "stream",
     "text": [
      "c:\\Users\\Sanket\\anaconda3\\envs\\mlops\\lib\\site-packages\\_distutils_hack\\__init__.py:30: UserWarning: Setuptools is replacing distutils. Support for replacing an already imported distutils is deprecated. In the future, this condition will fail. Register concerns at https://github.com/pypa/setuptools/issues/new?template=distutils-deprecation.yml\n",
      "  warnings.warn(\n",
      "Registered model 'ElasticNetModel' already exists. Creating a new version of this model...\n",
      "2025/03/29 23:07:39 INFO mlflow.tracking._model_registry.client: Waiting up to 300 seconds for model version to finish creation.                     Model name: ElasticNetModel, version 3\n",
      "Created version '3' of model 'ElasticNetModel'.\n"
     ]
    }
   ],
   "source": [
    "try:\n",
    "    config = ConfigurationManager()\n",
    "    model_evaluation_config = config.get_model_evaluation_config()\n",
    "    model_evaluation_config = ModelEvaluation(config = model_evaluation_config)\n",
    "    model_evaluation_config.log_into_mlflow()\n",
    "except Exception as e:\n",
    "    raise e"
   ]
  },
  {
   "cell_type": "code",
   "execution_count": null,
   "metadata": {},
   "outputs": [],
   "source": []
  }
 ],
 "metadata": {
  "kernelspec": {
   "display_name": "mlops",
   "language": "python",
   "name": "python3"
  },
  "language_info": {
   "codemirror_mode": {
    "name": "ipython",
    "version": 3
   },
   "file_extension": ".py",
   "mimetype": "text/x-python",
   "name": "python",
   "nbconvert_exporter": "python",
   "pygments_lexer": "ipython3",
   "version": "3.10.16"
  }
 },
 "nbformat": 4,
 "nbformat_minor": 2
}
